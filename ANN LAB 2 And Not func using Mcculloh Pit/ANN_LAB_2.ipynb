{
  "nbformat": 4,
  "nbformat_minor": 0,
  "metadata": {
    "colab": {
      "provenance": []
    },
    "kernelspec": {
      "name": "python3",
      "display_name": "Python 3"
    },
    "language_info": {
      "name": "python"
    }
  },
  "cells": [
    {
      "cell_type": "markdown",
      "source": [
        "## **2. Generate ANDNOT function using McCulloch-Pitts neural net by a python program.**"
      ],
      "metadata": {
        "id": "jq0C9taqYS-d"
      }
    },
    {
      "cell_type": "code",
      "execution_count": 1,
      "metadata": {
        "id": "Ag9wBCjYXX5W"
      },
      "outputs": [],
      "source": [
        "import pandas as pd\n",
        "import numpy as np"
      ]
    },
    {
      "cell_type": "code",
      "source": [],
      "metadata": {
        "colab": {
          "base_uri": "https://localhost:8080/"
        },
        "id": "7ebxnlEcXpsH",
        "outputId": "15d7274b-b98b-490e-d18f-a2cc29af7e17"
      },
      "execution_count": 2,
      "outputs": [
        {
          "output_type": "stream",
          "name": "stdout",
          "text": [
            "Input table is :\n",
            " [[0 0]\n",
            " [0 1]\n",
            " [1 0]\n",
            " [1 1]]\n",
            "Weights : [ 1 -1]\n"
          ]
        }
      ]
    },
    {
      "cell_type": "code",
      "source": [
        "dot_products=input_table @ weights\n",
        "print('weights :',dot_products)"
      ],
      "metadata": {
        "colab": {
          "base_uri": "https://localhost:8080/"
        },
        "id": "-92uFZgZXrqO",
        "outputId": "9410cbd0-5626-48bb-c7ae-ddfc9462b015"
      },
      "execution_count": 3,
      "outputs": [
        {
          "output_type": "stream",
          "name": "stdout",
          "text": [
            "weights : [ 0 -1  1  0]\n"
          ]
        }
      ]
    },
    {
      "cell_type": "code",
      "source": [
        "def linear_threshold(dot:int,T:float)->int:\n",
        "    if dot>=T:\n",
        "        return 1\n",
        "    else:\n",
        "        return 0\n",
        "T=1\n",
        "for i in range(0,4):\n",
        "    activation=linear_threshold(dot_products[i],T)\n",
        "    print('activation :',activation)"
      ],
      "metadata": {
        "colab": {
          "base_uri": "https://localhost:8080/"
        },
        "id": "0okHXy8EXwVp",
        "outputId": "f3d9d0cc-c8c9-43c5-bf59-a3298e94f51b"
      },
      "execution_count": 4,
      "outputs": [
        {
          "output_type": "stream",
          "name": "stdout",
          "text": [
            "activation : 0\n",
            "activation : 0\n",
            "activation : 1\n",
            "activation : 0\n"
          ]
        }
      ]
    }
  ]
}