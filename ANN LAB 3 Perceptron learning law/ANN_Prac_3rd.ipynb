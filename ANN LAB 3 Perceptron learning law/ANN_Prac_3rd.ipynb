{
  "nbformat": 4,
  "nbformat_minor": 0,
  "metadata": {
    "colab": {
      "provenance": []
    },
    "kernelspec": {
      "name": "python3",
      "display_name": "Python 3"
    },
    "language_info": {
      "name": "python"
    }
  },
  "cells": [
    {
      "cell_type": "markdown",
      "source": [
        "## **3. Write a Python Program using Perceptron Neural Network to recognise even and odd numbers.Given numbers are in ASCII form 0 to 9**"
      ],
      "metadata": {
        "id": "_0hpackM4ymC"
      }
    },
    {
      "cell_type": "code",
      "execution_count": 2,
      "metadata": {
        "id": "W-mg6cEf1wfP"
      },
      "outputs": [],
      "source": [
        "import numpy as np"
      ]
    },
    {
      "cell_type": "code",
      "source": [
        "#class Perceptron :\n",
        "  #def __init__(self, input_size, lr=1, epochs=100):\n",
        "    #sel"
      ],
      "metadata": {
        "id": "ipSf57Nl3DFH"
      },
      "execution_count": null,
      "outputs": []
    },
    {
      "cell_type": "code",
      "source": [
        "class Perceptron:\n",
        "    def __init__(self, input_size, lr=1, epochs=100):\n",
        "        self.W = np.zeros(input_size+1)\n",
        "        self.epochs = epochs\n",
        "        self.lr = lr\n",
        "\n",
        "    def activation_fn(self, x):\n",
        "        return 1 if x >= 0 else 0\n",
        "\n",
        "    def predict(self, x):\n",
        "        z = self.W.T.dot(x)\n",
        "        a = self.activation_fn(z)\n",
        "        return a\n",
        "\n",
        "    def fit(self, X, d):\n",
        "        for _ in range(self.epochs):\n",
        "            for i in range(d.shape[0]):\n",
        "                x = np.insert(X[i], 0, 1)\n",
        "                y = self.predict(x)\n",
        "                e = d[i] - y\n",
        "                self.W = self.W + self.lr * e * x\n",
        "\n",
        "# Training data\n",
        "X_train = np.array([\n",
        "    [0,0,0,0,0,0,0,0,0,0],  # ASCII representation of 0\n",
        "    [0,0,0,0,0,0,0,0,0,1],  # ASCII representation of 1\n",
        "    [0,0,0,0,0,0,0,0,1,0],  # ASCII representation of 2\n",
        "    [0,0,0,0,0,0,0,0,1,1],  # ASCII representation of 3\n",
        "    [0,0,0,0,0,0,0,1,0,0],  # ASCII representation of 4\n",
        "    [0,0,0,0,0,0,0,1,0,1],  # ASCII representation of 5\n",
        "    [0,0,0,0,0,0,0,1,1,0],  # ASCII representation of 6\n",
        "    [0,0,0,0,0,0,0,1,1,1],  # ASCII representation of 7\n",
        "    [0,0,0,0,0,0,1,0,0,0],  # ASCII representation of 8\n",
        "    [0,0,0,0,0,0,1,0,0,1],  # ASCII representation of 9\n",
        "])\n",
        "\n",
        "# Target labels (1 for odd, 0 for even)\n",
        "d_train = np.array([0,1,0,1,0,1,0,1,0,1])\n",
        "\n",
        "# Create and train the perceptron\n",
        "perceptron = Perceptron(input_size=10)\n",
        "perceptron.fit(X_train, d_train)\n",
        "\n"
      ],
      "metadata": {
        "id": "TEv0JnYH77ie"
      },
      "execution_count": 9,
      "outputs": []
    },
    {
      "cell_type": "code",
      "source": [
        "# Test\n",
        "test_number = input(\"Enter a number in ASCII form (0 to 9): \")\n",
        "test_input = np.array([int(c) for c in test_number])\n",
        "test_input = np.pad(test_input, (0, 10 - len(test_input)), 'constant')  # Padding with zeros if necessary\n",
        "prediction = perceptron.predict(np.insert(test_input, 0, 1))\n",
        "\n",
        "test_number = int(test_number, 2)  # Convert ASCII to integer\n",
        "\n",
        "print(f\"Test Number: {test_number}\")\n",
        "if prediction == 1:\n",
        "    print(\"Odd\")\n",
        "else:\n",
        "    print(\"Even\")"
      ],
      "metadata": {
        "colab": {
          "base_uri": "https://localhost:8080/"
        },
        "id": "pQEK2reX-K-w",
        "outputId": "0b76a12f-c921-4121-82a1-0c4d773792f1"
      },
      "execution_count": 13,
      "outputs": [
        {
          "output_type": "stream",
          "name": "stdout",
          "text": [
            "Enter a number in ASCII form (0 to 9): 1000000000\n",
            "Test Number: 512\n",
            "Even\n"
          ]
        }
      ]
    }
  ]
}